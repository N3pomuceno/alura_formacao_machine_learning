{
 "cells": [
  {
   "cell_type": "markdown",
   "id": "de4cb8d1",
   "metadata": {},
   "source": [
    "# Aula 1: Classificação\n",
    "\n",
    "Começando sempre com a importação dos dados e suas versões, caso queiram futuramente refazer o notebook.\n",
    "\n",
    "Nota, sempre que achar vários imports repetidos, não precisa tirar os imports pois é bom pensar como se fosse células únicas que não precisam de outras rodarem para ele rodar. Ela sozinha é funcional."
   ]
  },
  {
   "cell_type": "code",
   "execution_count": 1,
   "id": "ee411627",
   "metadata": {},
   "outputs": [],
   "source": [
    "import pandas as pd\n",
    "import numpy as np"
   ]
  },
  {
   "cell_type": "code",
   "execution_count": 2,
   "id": "e3179b81",
   "metadata": {},
   "outputs": [
    {
     "name": "stdout",
     "output_type": "stream",
     "text": [
      "Pandas: 1.5.3\n",
      "Numpy: 1.24.2\n"
     ]
    }
   ],
   "source": [
    "print('Pandas:', pd.__version__)\n",
    "print('Numpy:', np.__version__)"
   ]
  },
  {
   "cell_type": "code",
   "execution_count": 3,
   "id": "6886197e",
   "metadata": {},
   "outputs": [],
   "source": [
    "dados = pd.read_csv('https://raw.githubusercontent.com/alura-cursos/ML_Classificacao_por_tras_dos_panos/main/Dados/Customer-Churn.csv')"
   ]
  },
  {
   "cell_type": "code",
   "execution_count": 4,
   "id": "44eecf0f",
   "metadata": {},
   "outputs": [
    {
     "data": {
      "text/html": [
       "<div>\n",
       "<style scoped>\n",
       "    .dataframe tbody tr th:only-of-type {\n",
       "        vertical-align: middle;\n",
       "    }\n",
       "\n",
       "    .dataframe tbody tr th {\n",
       "        vertical-align: top;\n",
       "    }\n",
       "\n",
       "    .dataframe thead th {\n",
       "        text-align: right;\n",
       "    }\n",
       "</style>\n",
       "<table border=\"1\" class=\"dataframe\">\n",
       "  <thead>\n",
       "    <tr style=\"text-align: right;\">\n",
       "      <th></th>\n",
       "      <th>Maior65Anos</th>\n",
       "      <th>Conjuge</th>\n",
       "      <th>Dependentes</th>\n",
       "      <th>MesesDeContrato</th>\n",
       "      <th>TelefoneFixo</th>\n",
       "      <th>VariasLinhasTelefonicas</th>\n",
       "      <th>ServicoDeInternet</th>\n",
       "      <th>SegurancaOnline</th>\n",
       "      <th>BackupOnline</th>\n",
       "      <th>SeguroNoDispositivo</th>\n",
       "      <th>SuporteTecnico</th>\n",
       "      <th>TVaCabo</th>\n",
       "      <th>StreamingDeFilmes</th>\n",
       "      <th>TipoDeContrato</th>\n",
       "      <th>PagamentoOnline</th>\n",
       "      <th>FormaDePagamento</th>\n",
       "      <th>ContaMensal</th>\n",
       "      <th>Churn</th>\n",
       "    </tr>\n",
       "  </thead>\n",
       "  <tbody>\n",
       "    <tr>\n",
       "      <th>0</th>\n",
       "      <td>0</td>\n",
       "      <td>Sim</td>\n",
       "      <td>Nao</td>\n",
       "      <td>1</td>\n",
       "      <td>Nao</td>\n",
       "      <td>SemServicoTelefonico</td>\n",
       "      <td>DSL</td>\n",
       "      <td>Nao</td>\n",
       "      <td>Sim</td>\n",
       "      <td>Nao</td>\n",
       "      <td>Nao</td>\n",
       "      <td>Nao</td>\n",
       "      <td>Nao</td>\n",
       "      <td>Mensalmente</td>\n",
       "      <td>Sim</td>\n",
       "      <td>ChequeDigital</td>\n",
       "      <td>29.85</td>\n",
       "      <td>Nao</td>\n",
       "    </tr>\n",
       "    <tr>\n",
       "      <th>1</th>\n",
       "      <td>0</td>\n",
       "      <td>Nao</td>\n",
       "      <td>Nao</td>\n",
       "      <td>34</td>\n",
       "      <td>Sim</td>\n",
       "      <td>Nao</td>\n",
       "      <td>DSL</td>\n",
       "      <td>Sim</td>\n",
       "      <td>Nao</td>\n",
       "      <td>Sim</td>\n",
       "      <td>Nao</td>\n",
       "      <td>Nao</td>\n",
       "      <td>Nao</td>\n",
       "      <td>UmAno</td>\n",
       "      <td>Nao</td>\n",
       "      <td>ChequePapel</td>\n",
       "      <td>56.95</td>\n",
       "      <td>Nao</td>\n",
       "    </tr>\n",
       "    <tr>\n",
       "      <th>2</th>\n",
       "      <td>0</td>\n",
       "      <td>Nao</td>\n",
       "      <td>Nao</td>\n",
       "      <td>2</td>\n",
       "      <td>Sim</td>\n",
       "      <td>Nao</td>\n",
       "      <td>DSL</td>\n",
       "      <td>Sim</td>\n",
       "      <td>Sim</td>\n",
       "      <td>Nao</td>\n",
       "      <td>Nao</td>\n",
       "      <td>Nao</td>\n",
       "      <td>Nao</td>\n",
       "      <td>Mensalmente</td>\n",
       "      <td>Sim</td>\n",
       "      <td>ChequePapel</td>\n",
       "      <td>53.85</td>\n",
       "      <td>Sim</td>\n",
       "    </tr>\n",
       "    <tr>\n",
       "      <th>3</th>\n",
       "      <td>0</td>\n",
       "      <td>Nao</td>\n",
       "      <td>Nao</td>\n",
       "      <td>45</td>\n",
       "      <td>Nao</td>\n",
       "      <td>SemServicoTelefonico</td>\n",
       "      <td>DSL</td>\n",
       "      <td>Sim</td>\n",
       "      <td>Nao</td>\n",
       "      <td>Sim</td>\n",
       "      <td>Sim</td>\n",
       "      <td>Nao</td>\n",
       "      <td>Nao</td>\n",
       "      <td>UmAno</td>\n",
       "      <td>Nao</td>\n",
       "      <td>DebitoEmConta</td>\n",
       "      <td>42.30</td>\n",
       "      <td>Nao</td>\n",
       "    </tr>\n",
       "    <tr>\n",
       "      <th>4</th>\n",
       "      <td>0</td>\n",
       "      <td>Nao</td>\n",
       "      <td>Nao</td>\n",
       "      <td>2</td>\n",
       "      <td>Sim</td>\n",
       "      <td>Nao</td>\n",
       "      <td>FibraOptica</td>\n",
       "      <td>Nao</td>\n",
       "      <td>Nao</td>\n",
       "      <td>Nao</td>\n",
       "      <td>Nao</td>\n",
       "      <td>Nao</td>\n",
       "      <td>Nao</td>\n",
       "      <td>Mensalmente</td>\n",
       "      <td>Sim</td>\n",
       "      <td>ChequeDigital</td>\n",
       "      <td>70.70</td>\n",
       "      <td>Sim</td>\n",
       "    </tr>\n",
       "  </tbody>\n",
       "</table>\n",
       "</div>"
      ],
      "text/plain": [
       "   Maior65Anos Conjuge Dependentes  MesesDeContrato TelefoneFixo  \\\n",
       "0            0     Sim         Nao                1          Nao   \n",
       "1            0     Nao         Nao               34          Sim   \n",
       "2            0     Nao         Nao                2          Sim   \n",
       "3            0     Nao         Nao               45          Nao   \n",
       "4            0     Nao         Nao                2          Sim   \n",
       "\n",
       "  VariasLinhasTelefonicas ServicoDeInternet SegurancaOnline BackupOnline  \\\n",
       "0    SemServicoTelefonico               DSL             Nao          Sim   \n",
       "1                     Nao               DSL             Sim          Nao   \n",
       "2                     Nao               DSL             Sim          Sim   \n",
       "3    SemServicoTelefonico               DSL             Sim          Nao   \n",
       "4                     Nao       FibraOptica             Nao          Nao   \n",
       "\n",
       "  SeguroNoDispositivo SuporteTecnico TVaCabo StreamingDeFilmes TipoDeContrato  \\\n",
       "0                 Nao            Nao     Nao               Nao    Mensalmente   \n",
       "1                 Sim            Nao     Nao               Nao          UmAno   \n",
       "2                 Nao            Nao     Nao               Nao    Mensalmente   \n",
       "3                 Sim            Sim     Nao               Nao          UmAno   \n",
       "4                 Nao            Nao     Nao               Nao    Mensalmente   \n",
       "\n",
       "  PagamentoOnline FormaDePagamento  ContaMensal Churn  \n",
       "0             Sim    ChequeDigital        29.85   Nao  \n",
       "1             Nao      ChequePapel        56.95   Nao  \n",
       "2             Sim      ChequePapel        53.85   Sim  \n",
       "3             Nao    DebitoEmConta        42.30   Nao  \n",
       "4             Sim    ChequeDigital        70.70   Sim  "
      ]
     },
     "execution_count": 4,
     "metadata": {},
     "output_type": "execute_result"
    }
   ],
   "source": [
    "#Visualizando os dados\n",
    "dados.head()"
   ]
  },
  {
   "cell_type": "markdown",
   "id": "b06729ba",
   "metadata": {},
   "source": [
    "Esses dados foram pegos da base de dados oferecidas pelo github da professora. eles já foram tratados e podemos não nos preocupar com erros ou traduções. Caso fossemos na fonte, no kaggle, isso teria que ser feito antes."
   ]
  },
  {
   "cell_type": "code",
   "execution_count": 5,
   "id": "2104c823",
   "metadata": {},
   "outputs": [
    {
     "name": "stdout",
     "output_type": "stream",
     "text": [
      "Quantidade de linhas: 7043, e quantidade de colunas: 18\n"
     ]
    }
   ],
   "source": [
    "#Analisando dados\n",
    "print('Quantidade de linhas: {}, e quantidade de colunas: {}'.format(dados.shape[0],dados.shape[1]))"
   ]
  },
  {
   "cell_type": "markdown",
   "id": "656df760",
   "metadata": {},
   "source": [
    "O objetivo desses dados é verificar se dadas certas características, o cliente se enquadra como Churn ou não. Isso seria pessoas que desfazem o contrato por algum motivo. E o objetivo é fazer um modelo preditivo que descubra possíveis churns."
   ]
  },
  {
   "cell_type": "markdown",
   "id": "ead3955d",
   "metadata": {},
   "source": [
    "Antes de fato de trabalhar em cima do modelo, uma revisão de que estamos trabalhando em cima de variáveis categóricas e numéricas. Categóricas entram no modelo de agrupamentos por características em comum, separando em várias categorias. Já variáveis numéricas são medidas ou um conjunto de valores.\n",
    "\n",
    "Só porque a coluna é composta por números não implica que a variável seja numérica.\n",
    "\n",
    "\n",
    "Além disso, a máquina aprende por números, então para classificar, deveremos transformar as informações dos valores categóricos em algo que a máquina possa aprender. Caso tenha mais de um valores categórico é possível estabelecer valores relacionados com cada um, ainda mais se houver hierarquia entre as categorias (ordinais)."
   ]
  },
  {
   "cell_type": "code",
   "execution_count": 6,
   "id": "000aac71",
   "metadata": {},
   "outputs": [
    {
     "data": {
      "text/html": [
       "<div>\n",
       "<style scoped>\n",
       "    .dataframe tbody tr th:only-of-type {\n",
       "        vertical-align: middle;\n",
       "    }\n",
       "\n",
       "    .dataframe tbody tr th {\n",
       "        vertical-align: top;\n",
       "    }\n",
       "\n",
       "    .dataframe thead th {\n",
       "        text-align: right;\n",
       "    }\n",
       "</style>\n",
       "<table border=\"1\" class=\"dataframe\">\n",
       "  <thead>\n",
       "    <tr style=\"text-align: right;\">\n",
       "      <th></th>\n",
       "      <th>Conjuge</th>\n",
       "      <th>Dependentes</th>\n",
       "      <th>TelefoneFixo</th>\n",
       "      <th>PagamentoOnline</th>\n",
       "      <th>Churn</th>\n",
       "    </tr>\n",
       "  </thead>\n",
       "  <tbody>\n",
       "    <tr>\n",
       "      <th>0</th>\n",
       "      <td>1</td>\n",
       "      <td>0</td>\n",
       "      <td>0</td>\n",
       "      <td>1</td>\n",
       "      <td>0</td>\n",
       "    </tr>\n",
       "    <tr>\n",
       "      <th>1</th>\n",
       "      <td>0</td>\n",
       "      <td>0</td>\n",
       "      <td>1</td>\n",
       "      <td>0</td>\n",
       "      <td>0</td>\n",
       "    </tr>\n",
       "    <tr>\n",
       "      <th>2</th>\n",
       "      <td>0</td>\n",
       "      <td>0</td>\n",
       "      <td>1</td>\n",
       "      <td>1</td>\n",
       "      <td>1</td>\n",
       "    </tr>\n",
       "    <tr>\n",
       "      <th>3</th>\n",
       "      <td>0</td>\n",
       "      <td>0</td>\n",
       "      <td>0</td>\n",
       "      <td>0</td>\n",
       "      <td>0</td>\n",
       "    </tr>\n",
       "    <tr>\n",
       "      <th>4</th>\n",
       "      <td>0</td>\n",
       "      <td>0</td>\n",
       "      <td>1</td>\n",
       "      <td>1</td>\n",
       "      <td>1</td>\n",
       "    </tr>\n",
       "  </tbody>\n",
       "</table>\n",
       "</div>"
      ],
      "text/plain": [
       "   Conjuge  Dependentes  TelefoneFixo  PagamentoOnline  Churn\n",
       "0        1            0             0                1      0\n",
       "1        0            0             1                0      0\n",
       "2        0            0             1                1      1\n",
       "3        0            0             0                0      0\n",
       "4        0            0             1                1      1"
      ]
     },
     "execution_count": 6,
     "metadata": {},
     "output_type": "execute_result"
    }
   ],
   "source": [
    "#Forma manual\n",
    "traducao_dic = {\n",
    "    'Sim': 1,\n",
    "    'Nao': 0\n",
    "}\n",
    "\n",
    "dadosModificados = dados[['Conjuge', 'Dependentes','TelefoneFixo','PagamentoOnline','Churn']].replace(traducao_dic)\n",
    "dadosModificados.head()"
   ]
  },
  {
   "cell_type": "markdown",
   "id": "f8ff481f",
   "metadata": {},
   "source": [
    "Uma forma automatizada de fazer é utilizando a utilizando o método get_dummies que identifica as categorias e separa entre 0 e 1, ou True e False. Para isso na coluna abaixo, para não repetir o que foi feito pelo trabalho manual, tiramos essas colunas, mas o resto será trabalhado em cima dela.\n",
    "\n",
    "Por fim juntaremos o manual com o automatizado e teremos os dados iniciais preparados para a classificação."
   ]
  },
  {
   "cell_type": "code",
   "execution_count": 7,
   "id": "d983f0da",
   "metadata": {},
   "outputs": [],
   "source": [
    "#Transformação pelo getdummies\n",
    "dummie_dados = pd.get_dummies(dados.drop(['Conjuge', 'Dependentes','TelefoneFixo','PagamentoOnline','Churn'],\n",
    "                              axis=1))\n",
    "\n",
    "#Junção de dados\n",
    "dados_final = pd.concat([dadosModificados, dummie_dados], axis=1)"
   ]
  },
  {
   "cell_type": "code",
   "execution_count": 8,
   "id": "790dbdce",
   "metadata": {},
   "outputs": [
    {
     "data": {
      "text/html": [
       "<div>\n",
       "<style scoped>\n",
       "    .dataframe tbody tr th:only-of-type {\n",
       "        vertical-align: middle;\n",
       "    }\n",
       "\n",
       "    .dataframe tbody tr th {\n",
       "        vertical-align: top;\n",
       "    }\n",
       "\n",
       "    .dataframe thead th {\n",
       "        text-align: right;\n",
       "    }\n",
       "</style>\n",
       "<table border=\"1\" class=\"dataframe\">\n",
       "  <thead>\n",
       "    <tr style=\"text-align: right;\">\n",
       "      <th></th>\n",
       "      <th>Conjuge</th>\n",
       "      <th>Dependentes</th>\n",
       "      <th>TelefoneFixo</th>\n",
       "      <th>PagamentoOnline</th>\n",
       "      <th>Churn</th>\n",
       "      <th>Maior65Anos</th>\n",
       "      <th>MesesDeContrato</th>\n",
       "      <th>ContaMensal</th>\n",
       "      <th>VariasLinhasTelefonicas_Nao</th>\n",
       "      <th>VariasLinhasTelefonicas_SemServicoTelefonico</th>\n",
       "      <th>...</th>\n",
       "      <th>StreamingDeFilmes_Nao</th>\n",
       "      <th>StreamingDeFilmes_SemServicoDeInternet</th>\n",
       "      <th>StreamingDeFilmes_Sim</th>\n",
       "      <th>TipoDeContrato_DoisAnos</th>\n",
       "      <th>TipoDeContrato_Mensalmente</th>\n",
       "      <th>TipoDeContrato_UmAno</th>\n",
       "      <th>FormaDePagamento_CartaoDeCredito</th>\n",
       "      <th>FormaDePagamento_ChequeDigital</th>\n",
       "      <th>FormaDePagamento_ChequePapel</th>\n",
       "      <th>FormaDePagamento_DebitoEmConta</th>\n",
       "    </tr>\n",
       "  </thead>\n",
       "  <tbody>\n",
       "    <tr>\n",
       "      <th>0</th>\n",
       "      <td>1</td>\n",
       "      <td>0</td>\n",
       "      <td>0</td>\n",
       "      <td>1</td>\n",
       "      <td>0</td>\n",
       "      <td>0</td>\n",
       "      <td>1</td>\n",
       "      <td>29.85</td>\n",
       "      <td>0</td>\n",
       "      <td>1</td>\n",
       "      <td>...</td>\n",
       "      <td>1</td>\n",
       "      <td>0</td>\n",
       "      <td>0</td>\n",
       "      <td>0</td>\n",
       "      <td>1</td>\n",
       "      <td>0</td>\n",
       "      <td>0</td>\n",
       "      <td>1</td>\n",
       "      <td>0</td>\n",
       "      <td>0</td>\n",
       "    </tr>\n",
       "    <tr>\n",
       "      <th>1</th>\n",
       "      <td>0</td>\n",
       "      <td>0</td>\n",
       "      <td>1</td>\n",
       "      <td>0</td>\n",
       "      <td>0</td>\n",
       "      <td>0</td>\n",
       "      <td>34</td>\n",
       "      <td>56.95</td>\n",
       "      <td>1</td>\n",
       "      <td>0</td>\n",
       "      <td>...</td>\n",
       "      <td>1</td>\n",
       "      <td>0</td>\n",
       "      <td>0</td>\n",
       "      <td>0</td>\n",
       "      <td>0</td>\n",
       "      <td>1</td>\n",
       "      <td>0</td>\n",
       "      <td>0</td>\n",
       "      <td>1</td>\n",
       "      <td>0</td>\n",
       "    </tr>\n",
       "    <tr>\n",
       "      <th>2</th>\n",
       "      <td>0</td>\n",
       "      <td>0</td>\n",
       "      <td>1</td>\n",
       "      <td>1</td>\n",
       "      <td>1</td>\n",
       "      <td>0</td>\n",
       "      <td>2</td>\n",
       "      <td>53.85</td>\n",
       "      <td>1</td>\n",
       "      <td>0</td>\n",
       "      <td>...</td>\n",
       "      <td>1</td>\n",
       "      <td>0</td>\n",
       "      <td>0</td>\n",
       "      <td>0</td>\n",
       "      <td>1</td>\n",
       "      <td>0</td>\n",
       "      <td>0</td>\n",
       "      <td>0</td>\n",
       "      <td>1</td>\n",
       "      <td>0</td>\n",
       "    </tr>\n",
       "    <tr>\n",
       "      <th>3</th>\n",
       "      <td>0</td>\n",
       "      <td>0</td>\n",
       "      <td>0</td>\n",
       "      <td>0</td>\n",
       "      <td>0</td>\n",
       "      <td>0</td>\n",
       "      <td>45</td>\n",
       "      <td>42.30</td>\n",
       "      <td>0</td>\n",
       "      <td>1</td>\n",
       "      <td>...</td>\n",
       "      <td>1</td>\n",
       "      <td>0</td>\n",
       "      <td>0</td>\n",
       "      <td>0</td>\n",
       "      <td>0</td>\n",
       "      <td>1</td>\n",
       "      <td>0</td>\n",
       "      <td>0</td>\n",
       "      <td>0</td>\n",
       "      <td>1</td>\n",
       "    </tr>\n",
       "    <tr>\n",
       "      <th>4</th>\n",
       "      <td>0</td>\n",
       "      <td>0</td>\n",
       "      <td>1</td>\n",
       "      <td>1</td>\n",
       "      <td>1</td>\n",
       "      <td>0</td>\n",
       "      <td>2</td>\n",
       "      <td>70.70</td>\n",
       "      <td>1</td>\n",
       "      <td>0</td>\n",
       "      <td>...</td>\n",
       "      <td>1</td>\n",
       "      <td>0</td>\n",
       "      <td>0</td>\n",
       "      <td>0</td>\n",
       "      <td>1</td>\n",
       "      <td>0</td>\n",
       "      <td>0</td>\n",
       "      <td>1</td>\n",
       "      <td>0</td>\n",
       "      <td>0</td>\n",
       "    </tr>\n",
       "  </tbody>\n",
       "</table>\n",
       "<p>5 rows × 39 columns</p>\n",
       "</div>"
      ],
      "text/plain": [
       "   Conjuge  Dependentes  TelefoneFixo  PagamentoOnline  Churn  Maior65Anos  \\\n",
       "0        1            0             0                1      0            0   \n",
       "1        0            0             1                0      0            0   \n",
       "2        0            0             1                1      1            0   \n",
       "3        0            0             0                0      0            0   \n",
       "4        0            0             1                1      1            0   \n",
       "\n",
       "   MesesDeContrato  ContaMensal  VariasLinhasTelefonicas_Nao  \\\n",
       "0                1        29.85                            0   \n",
       "1               34        56.95                            1   \n",
       "2                2        53.85                            1   \n",
       "3               45        42.30                            0   \n",
       "4                2        70.70                            1   \n",
       "\n",
       "   VariasLinhasTelefonicas_SemServicoTelefonico  ...  StreamingDeFilmes_Nao  \\\n",
       "0                                             1  ...                      1   \n",
       "1                                             0  ...                      1   \n",
       "2                                             0  ...                      1   \n",
       "3                                             1  ...                      1   \n",
       "4                                             0  ...                      1   \n",
       "\n",
       "   StreamingDeFilmes_SemServicoDeInternet  StreamingDeFilmes_Sim  \\\n",
       "0                                       0                      0   \n",
       "1                                       0                      0   \n",
       "2                                       0                      0   \n",
       "3                                       0                      0   \n",
       "4                                       0                      0   \n",
       "\n",
       "   TipoDeContrato_DoisAnos  TipoDeContrato_Mensalmente  TipoDeContrato_UmAno  \\\n",
       "0                        0                           1                     0   \n",
       "1                        0                           0                     1   \n",
       "2                        0                           1                     0   \n",
       "3                        0                           0                     1   \n",
       "4                        0                           1                     0   \n",
       "\n",
       "   FormaDePagamento_CartaoDeCredito  FormaDePagamento_ChequeDigital  \\\n",
       "0                                 0                               1   \n",
       "1                                 0                               0   \n",
       "2                                 0                               0   \n",
       "3                                 0                               0   \n",
       "4                                 0                               1   \n",
       "\n",
       "   FormaDePagamento_ChequePapel  FormaDePagamento_DebitoEmConta  \n",
       "0                             0                               0  \n",
       "1                             1                               0  \n",
       "2                             1                               0  \n",
       "3                             0                               1  \n",
       "4                             0                               0  \n",
       "\n",
       "[5 rows x 39 columns]"
      ]
     },
     "execution_count": 8,
     "metadata": {},
     "output_type": "execute_result"
    }
   ],
   "source": [
    "dados_final.head()"
   ]
  },
  {
   "cell_type": "code",
   "execution_count": 9,
   "id": "4dd3abbb",
   "metadata": {},
   "outputs": [
    {
     "data": {
      "text/plain": [
       "(7043, 39)"
      ]
     },
     "execution_count": 9,
     "metadata": {},
     "output_type": "execute_result"
    }
   ],
   "source": [
    "dados_final.shape"
   ]
  },
  {
   "cell_type": "markdown",
   "id": "ba8c4bed",
   "metadata": {},
   "source": [
    "Manteve a mesma quantidade de linhas e colunas."
   ]
  },
  {
   "cell_type": "code",
   "execution_count": 10,
   "id": "cf0857e0",
   "metadata": {},
   "outputs": [],
   "source": [
    "#Forma de ver todas as colunas do DataFrame\n",
    "#pd.set_option('display.max_columns', 39)"
   ]
  },
  {
   "cell_type": "code",
   "execution_count": 11,
   "id": "52c015ff",
   "metadata": {},
   "outputs": [],
   "source": [
    "#Exemplo do vídeo\n",
    "Xmaria = [[0,0,1,1,0,0,39.90,1,0,0,0,1,0,1,0,0,0,0,1,1,1,0,0,1,0,1,0,0,0,0,1,0,0,1,0,0,0,1]]"
   ]
  },
  {
   "cell_type": "code",
   "execution_count": 12,
   "id": "49204424",
   "metadata": {},
   "outputs": [],
   "source": [
    "#ymaria = ?"
   ]
  },
  {
   "cell_type": "markdown",
   "id": "6c03a7fe",
   "metadata": {},
   "source": [
    "Quando querendo **prever qual é a categoria que pertence uma determinada amostra**, trata-se de um problema de classificação. Quando é casos de sim ou não, é chamado de classificação binária. Quando tem mais de duas classes, é chamado de de classificação multiclasse.\n",
    "\n",
    "Quando precisamos **prever um valor numérico**, isso indica que estamos lidando com um problema de regressão.\n",
    "\n",
    "\n",
    "---\n",
    "\n",
    "Verificando se os dados estão desbalanceados:\n"
   ]
  },
  {
   "cell_type": "code",
   "execution_count": 13,
   "id": "7a7b7f64",
   "metadata": {},
   "outputs": [
    {
     "data": {
      "image/png": "[encoded data removed]",
      "text/plain": [
       "<Figure size 640x480 with 1 Axes>"
      ]
     },
     "metadata": {},
     "output_type": "display_data"
    }
   ],
   "source": [
    "import seaborn as sns\n",
    "%matplotlib inline\n",
    "\n",
    "ax = sns.countplot(x='Churn', data=dados_final)"
   ]
  },
  {
   "cell_type": "markdown",
   "id": "e826433b",
   "metadata": {},
   "source": [
    "Analisando o gráfico, podemos perceber que nossa variável está desbalanceada e precisamos tratar isso. Para realizar o balanceamento dos dados, utilizaremos uma técnica chamada de Oversampling, que consiste em realizar a criação de novas observações da classe quando há menos amostras, tendo como objetivo igualar a proporção entre as categorias.\n",
    "\n",
    "Uma das técnicas de oversampling muito utilizada é a SMOTE. Sua ideia consiste em criar observações intermediárias entre os dados que estão próximos. Por exemplo, se minutos totais por dia são 129.1 e 146.3, então será criada uma amostra com os minutos totais por dia com 137.7. Lembrando que não é necessariamente a média entre as amostras. \n",
    "\n",
    "\n",
    "A próxima etapa requer a instalação de um módulo chamado *imbalanced-learn* e por isso utilizarei de um ambiente virtual para trabalhar com ele."
   ]
  },
  {
   "cell_type": "code",
   "execution_count": 14,
   "id": "a49d53ed",
   "metadata": {},
   "outputs": [],
   "source": [
    "# Para podermos aplicar o SMOTE, devemos separar  os dados em variáveis características e resposta  \n",
    "\n",
    "X = dados_final.drop('Churn', axis = 1)\n",
    "y = dados_final['Churn']"
   ]
  },
  {
   "cell_type": "code",
   "execution_count": 15,
   "id": "9ada4e51",
   "metadata": {},
   "outputs": [],
   "source": [
    "#Utilizando a biblioteca nova imbalanced learn\n",
    "from imblearn.over_sampling import SMOTE\n",
    "\n",
    "smt = SMOTE(random_state=123)  # Instancia um objeto da classe SMOTE\n",
    "X, y = smt.fit_resample(X, y)  # Realiza a reamostragem do conjunto de dados"
   ]
  },
  {
   "cell_type": "code",
   "execution_count": 16,
   "id": "4ed6fe91",
   "metadata": {},
   "outputs": [
    {
     "data": {
      "text/html": [
       "<div>\n",
       "<style scoped>\n",
       "    .dataframe tbody tr th:only-of-type {\n",
       "        vertical-align: middle;\n",
       "    }\n",
       "\n",
       "    .dataframe tbody tr th {\n",
       "        vertical-align: top;\n",
       "    }\n",
       "\n",
       "    .dataframe thead th {\n",
       "        text-align: right;\n",
       "    }\n",
       "</style>\n",
       "<table border=\"1\" class=\"dataframe\">\n",
       "  <thead>\n",
       "    <tr style=\"text-align: right;\">\n",
       "      <th></th>\n",
       "      <th>Conjuge</th>\n",
       "      <th>Dependentes</th>\n",
       "      <th>TelefoneFixo</th>\n",
       "      <th>PagamentoOnline</th>\n",
       "      <th>Maior65Anos</th>\n",
       "      <th>MesesDeContrato</th>\n",
       "      <th>ContaMensal</th>\n",
       "      <th>VariasLinhasTelefonicas_Nao</th>\n",
       "      <th>VariasLinhasTelefonicas_SemServicoTelefonico</th>\n",
       "      <th>VariasLinhasTelefonicas_Sim</th>\n",
       "      <th>...</th>\n",
       "      <th>StreamingDeFilmes_SemServicoDeInternet</th>\n",
       "      <th>StreamingDeFilmes_Sim</th>\n",
       "      <th>TipoDeContrato_DoisAnos</th>\n",
       "      <th>TipoDeContrato_Mensalmente</th>\n",
       "      <th>TipoDeContrato_UmAno</th>\n",
       "      <th>FormaDePagamento_CartaoDeCredito</th>\n",
       "      <th>FormaDePagamento_ChequeDigital</th>\n",
       "      <th>FormaDePagamento_ChequePapel</th>\n",
       "      <th>FormaDePagamento_DebitoEmConta</th>\n",
       "      <th>Churn</th>\n",
       "    </tr>\n",
       "  </thead>\n",
       "  <tbody>\n",
       "    <tr>\n",
       "      <th>0</th>\n",
       "      <td>1</td>\n",
       "      <td>0</td>\n",
       "      <td>0</td>\n",
       "      <td>1</td>\n",
       "      <td>0</td>\n",
       "      <td>1</td>\n",
       "      <td>29.85</td>\n",
       "      <td>0</td>\n",
       "      <td>1</td>\n",
       "      <td>0</td>\n",
       "      <td>...</td>\n",
       "      <td>0</td>\n",
       "      <td>0</td>\n",
       "      <td>0</td>\n",
       "      <td>1</td>\n",
       "      <td>0</td>\n",
       "      <td>0</td>\n",
       "      <td>1</td>\n",
       "      <td>0</td>\n",
       "      <td>0</td>\n",
       "      <td>0</td>\n",
       "    </tr>\n",
       "    <tr>\n",
       "      <th>1</th>\n",
       "      <td>0</td>\n",
       "      <td>0</td>\n",
       "      <td>1</td>\n",
       "      <td>0</td>\n",
       "      <td>0</td>\n",
       "      <td>34</td>\n",
       "      <td>56.95</td>\n",
       "      <td>1</td>\n",
       "      <td>0</td>\n",
       "      <td>0</td>\n",
       "      <td>...</td>\n",
       "      <td>0</td>\n",
       "      <td>0</td>\n",
       "      <td>0</td>\n",
       "      <td>0</td>\n",
       "      <td>1</td>\n",
       "      <td>0</td>\n",
       "      <td>0</td>\n",
       "      <td>1</td>\n",
       "      <td>0</td>\n",
       "      <td>0</td>\n",
       "    </tr>\n",
       "  </tbody>\n",
       "</table>\n",
       "<p>2 rows × 39 columns</p>\n",
       "</div>"
      ],
      "text/plain": [
       "   Conjuge  Dependentes  TelefoneFixo  PagamentoOnline  Maior65Anos  \\\n",
       "0        1            0             0                1            0   \n",
       "1        0            0             1                0            0   \n",
       "\n",
       "   MesesDeContrato  ContaMensal  VariasLinhasTelefonicas_Nao  \\\n",
       "0                1        29.85                            0   \n",
       "1               34        56.95                            1   \n",
       "\n",
       "   VariasLinhasTelefonicas_SemServicoTelefonico  VariasLinhasTelefonicas_Sim  \\\n",
       "0                                             1                            0   \n",
       "1                                             0                            0   \n",
       "\n",
       "   ...  StreamingDeFilmes_SemServicoDeInternet  StreamingDeFilmes_Sim  \\\n",
       "0  ...                                       0                      0   \n",
       "1  ...                                       0                      0   \n",
       "\n",
       "   TipoDeContrato_DoisAnos  TipoDeContrato_Mensalmente  TipoDeContrato_UmAno  \\\n",
       "0                        0                           1                     0   \n",
       "1                        0                           0                     1   \n",
       "\n",
       "   FormaDePagamento_CartaoDeCredito  FormaDePagamento_ChequeDigital  \\\n",
       "0                                 0                               1   \n",
       "1                                 0                               0   \n",
       "\n",
       "   FormaDePagamento_ChequePapel  FormaDePagamento_DebitoEmConta  Churn  \n",
       "0                             0                               0      0  \n",
       "1                             1                               0      0  \n",
       "\n",
       "[2 rows x 39 columns]"
      ]
     },
     "execution_count": 16,
     "metadata": {},
     "output_type": "execute_result"
    }
   ],
   "source": [
    "dados_final = pd.concat([X, y], axis=1)  # Concatena a variável target (y) com as features (X)\n",
    "\n",
    "# Verifica se o balanceamento e a concatenação estão corretos.\n",
    "dados_final.head(2)"
   ]
  },
  {
   "cell_type": "code",
   "execution_count": 17,
   "id": "ec5f4753",
   "metadata": {},
   "outputs": [
    {
     "data": {
      "image/png": "[encoded data removed]",
      "text/plain": [
       "<Figure size 640x480 with 1 Axes>"
      ]
     },
     "metadata": {},
     "output_type": "display_data"
    }
   ],
   "source": [
    "ax = sns.countplot(x='Churn', data=dados_final)  # plotando a variável target balanceada."
   ]
  },
  {
   "cell_type": "markdown",
   "id": "c42f2bea",
   "metadata": {},
   "source": [
    "Dados balanceados!"
   ]
  },
  {
   "cell_type": "markdown",
   "id": "b904307a",
   "metadata": {},
   "source": [
    "# Aula 2: Método baseado na proximidade.\n",
    "\n",
    "**O que é o modelo K Nearest Neighbors?**\n",
    "\n",
    "Trabalharemos em cima de proximidade via características mais parecidas.\n",
    "\n",
    "Primeiro ele recebe as informações de cada registro, calcula as distâncias de cada característica em relação ao caso que ele quer predizer.\n",
    "\n",
    "Em seguida ela ordena da menor distância para a maior os vizinhos encontrados de acordo com a distância e faz uma contagem das classes desses vizinhos. Por fim classifica a partir dos K-vizinhos e define se será Churn ou não.\n",
    "\n",
    "### Observações importantes: \n",
    "\n",
    "**Classificação é interferida pelo valor de K**\n",
    "\n",
    "Se K muito pequeno -> Overfitting do modelo (o modelo se ajustará perfeitamente aos dados de entrada e qualquer novo registro que tentará predizer será mal classificado)\n",
    "\n",
    "\n",
    "Se K muito grande -> Underfitting (modelo terá muito grande de vizinhos e assim terá que escolher entre muitas classificações o que levará a errar possíveis previsões de novas entradas, assim como o anterior)\n",
    "\n",
    "**Por isso é importante testar os valores para K**\n",
    "\n",
    "\n",
    "Além disso, também tem que ser visto as métricas de distância, é importante testar diferentes métricas afim de obter a melhor classificação possível do seu modelo.\n",
    "\n",
    "---\n",
    "\n",
    "Voltando para o código....\n",
    "Vamos separar a parte de treino e a parte de teste."
   ]
  },
  {
   "cell_type": "code",
   "execution_count": 18,
   "id": "533ac0ca",
   "metadata": {},
   "outputs": [
    {
     "data": {
      "text/plain": [
       "[[0,\n",
       "  0,\n",
       "  1,\n",
       "  1,\n",
       "  0,\n",
       "  0,\n",
       "  39.9,\n",
       "  1,\n",
       "  0,\n",
       "  0,\n",
       "  0,\n",
       "  1,\n",
       "  0,\n",
       "  1,\n",
       "  0,\n",
       "  0,\n",
       "  0,\n",
       "  0,\n",
       "  1,\n",
       "  1,\n",
       "  1,\n",
       "  0,\n",
       "  0,\n",
       "  1,\n",
       "  0,\n",
       "  1,\n",
       "  0,\n",
       "  0,\n",
       "  0,\n",
       "  0,\n",
       "  1,\n",
       "  0,\n",
       "  0,\n",
       "  1,\n",
       "  0,\n",
       "  0,\n",
       "  0,\n",
       "  1]]"
      ]
     },
     "execution_count": 18,
     "metadata": {},
     "output_type": "execute_result"
    }
   ],
   "source": [
    "#Trabalharemos com\n",
    "Xmaria"
   ]
  },
  {
   "cell_type": "markdown",
   "id": "f25957f8",
   "metadata": {},
   "source": [
    "Já fizemos as mudanças para as variáveis 'X' e 'y'. \n",
    "\n",
    "Agora temos que deixar claro uma coisa, é de extrema importância deixar todos os valores na mesma escala. Vamos fazer isso utilizando a biblioteca do Scikit-learn, que você verá durante todo o projeto na implementação dos modelos. "
   ]
  },
  {
   "cell_type": "code",
   "execution_count": 19,
   "id": "811f2985",
   "metadata": {},
   "outputs": [],
   "source": [
    "#biblioteca para padronizar os dados\n",
    "from sklearn.preprocessing import StandardScaler"
   ]
  },
  {
   "cell_type": "markdown",
   "id": "2a57c261",
   "metadata": {},
   "source": [
    "Agora vamos chamar a função. Essa função de normalização vai pegar cada um dos atributos do nosso conjunto X, por exemplo, X da Maria e o X dos clientes, vai pegar cada um dos atributos, subtrair a média desse conjunto e fazer a divisão pelo desvio padrão. Para realizarmos essa matemática nesse conjunto de funções no nosso X precisamos primeiro instanciar essa função."
   ]
  },
  {
   "cell_type": "code",
   "execution_count": 20,
   "id": "0ebb034f",
   "metadata": {},
   "outputs": [
    {
     "data": {
      "text/plain": [
       "array([[ 1.26542767, -0.52756038, -3.06083934, ...,  1.30373042,\n",
       "        -0.47943196, -0.4360152 ],\n",
       "       [-0.79024667, -0.52756038,  0.32670777, ..., -0.76702973,\n",
       "         2.08580171, -0.4360152 ],\n",
       "       [-0.79024667, -0.52756038,  0.32670777, ..., -0.76702973,\n",
       "         2.08580171, -0.4360152 ],\n",
       "       ...,\n",
       "       [-0.79024667, -0.52756038,  0.32670777, ...,  1.30373042,\n",
       "        -0.47943196, -0.4360152 ],\n",
       "       [-0.79024667, -0.52756038,  0.32670777, ..., -0.76702973,\n",
       "        -0.47943196, -0.4360152 ],\n",
       "       [-0.79024667, -0.52756038,  0.32670777, ..., -0.76702973,\n",
       "        -0.47943196, -0.4360152 ]])"
      ]
     },
     "execution_count": 20,
     "metadata": {},
     "output_type": "execute_result"
    }
   ],
   "source": [
    "norm = StandardScaler()\n",
    "\n",
    "X_normalizado = norm.fit_transform(X)\n",
    "X_normalizado"
   ]
  },
  {
   "cell_type": "code",
   "execution_count": 21,
   "id": "f3a289d4",
   "metadata": {},
   "outputs": [
    {
     "data": {
      "text/plain": [
       "array([ 1.26542767, -0.52756038, -3.06083934,  0.81514931, -0.41254225,\n",
       "       -1.10768665, -1.32177005, -0.88499468,  3.18604176, -0.83366906,\n",
       "        1.51268338, -1.04386816, -0.44617598,  0.868102  , -0.44617598,\n",
       "       -0.51751958, -0.95853201, -0.44617598,  1.57389661,  1.04306   ,\n",
       "       -0.44617598, -0.6419641 ,  0.87997069, -0.44617598, -0.52426638,\n",
       "        1.18690873, -0.44617598, -0.77707385,  1.20287745, -0.44617598,\n",
       "       -0.79008532, -0.44648735,  0.73773107, -0.41989297, -0.42576817,\n",
       "        1.30373042, -0.47943196, -0.4360152 ])"
      ]
     },
     "execution_count": 21,
     "metadata": {},
     "output_type": "execute_result"
    }
   ],
   "source": [
    "#cliente0\n",
    "X_normalizado[0]"
   ]
  },
  {
   "cell_type": "markdown",
   "id": "51962e06",
   "metadata": {},
   "source": [
    "Para preparar os dados da Maria, primeiro teremos que estruturar como uma Dataframe de linha e coluna, e aí podemos refazer sua escala de acordo com o resto dos dados."
   ]
  },
  {
   "cell_type": "code",
   "execution_count": 22,
   "id": "b36240d5",
   "metadata": {},
   "outputs": [
    {
     "data": {
      "text/plain": [
       "array([[-0.79024667, -0.52756038,  0.32670777,  0.81514931, -0.41254225,\n",
       "        -1.14935017, -0.9723572 ,  1.1299503 , -0.31386908, -0.83366906,\n",
       "        -0.66107688,  0.95797538, -0.44617598,  0.868102  , -0.44617598,\n",
       "        -0.51751958, -0.95853201, -0.44617598,  1.57389661,  1.04306   ,\n",
       "         2.24126814, -0.6419641 , -1.13640148,  2.24126814, -0.52426638,\n",
       "         1.18690873, -0.44617598, -0.77707385, -0.83133988, -0.44617598,\n",
       "         1.26568609, -0.44648735, -1.35550751,  2.38155929, -0.42576817,\n",
       "        -0.76702973, -0.47943196,  2.293498  ]])"
      ]
     },
     "execution_count": 22,
     "metadata": {},
     "output_type": "execute_result"
    }
   ],
   "source": [
    "Xmaria_normalizado = norm.transform(pd.DataFrame(Xmaria, columns = X.columns))\n",
    "Xmaria_normalizado"
   ]
  },
  {
   "cell_type": "markdown",
   "id": "0f8bf978",
   "metadata": {},
   "source": [
    "Existe várias formas de calcular a distância entre as características, mas hoje utilizaremos a euclidiana: ela é a raiz quadrada do somatório da diferença de todos os atributos, todas as características elevada ao quadrado. "
   ]
  },
  {
   "cell_type": "code",
   "execution_count": 23,
   "id": "0da630e9",
   "metadata": {},
   "outputs": [],
   "source": [
    "a = Xmaria_normalizado\n",
    "b = X_normalizado[0]"
   ]
  },
  {
   "cell_type": "code",
   "execution_count": 24,
   "id": "d848d959",
   "metadata": {},
   "outputs": [
    {
     "data": {
      "text/plain": [
       "array([[-2.05567434,  0.        ,  3.38754711,  0.        ,  0.        ,\n",
       "        -0.04166352,  0.34941285,  2.01494498, -3.49991084,  0.        ,\n",
       "        -2.17376025,  2.00184354,  0.        ,  0.        ,  0.        ,\n",
       "         0.        ,  0.        ,  0.        ,  0.        ,  0.        ,\n",
       "         2.68744412,  0.        , -2.01637218,  2.68744412,  0.        ,\n",
       "         0.        ,  0.        ,  0.        , -2.03421733,  0.        ,\n",
       "         2.05577141,  0.        , -2.09323857,  2.80145225,  0.        ,\n",
       "        -2.07076016,  0.        ,  2.72951321]])"
      ]
     },
     "execution_count": 24,
     "metadata": {},
     "output_type": "execute_result"
    }
   ],
   "source": [
    "#primeira subtração\n",
    "a-b"
   ]
  },
  {
   "cell_type": "code",
   "execution_count": 25,
   "id": "9ba22363",
   "metadata": {},
   "outputs": [
    {
     "data": {
      "text/plain": [
       "array([[4.22579699e+00, 0.00000000e+00, 1.14754754e+01, 0.00000000e+00,\n",
       "        0.00000000e+00, 1.73584854e-03, 1.22089340e-01, 4.06000326e+00,\n",
       "        1.22493759e+01, 0.00000000e+00, 4.72523363e+00, 4.00737757e+00,\n",
       "        0.00000000e+00, 0.00000000e+00, 0.00000000e+00, 0.00000000e+00,\n",
       "        0.00000000e+00, 0.00000000e+00, 0.00000000e+00, 0.00000000e+00,\n",
       "        7.22235589e+00, 0.00000000e+00, 4.06575675e+00, 7.22235589e+00,\n",
       "        0.00000000e+00, 0.00000000e+00, 0.00000000e+00, 0.00000000e+00,\n",
       "        4.13804017e+00, 0.00000000e+00, 4.22619609e+00, 0.00000000e+00,\n",
       "        4.38164773e+00, 7.84813473e+00, 0.00000000e+00, 4.28804763e+00,\n",
       "        0.00000000e+00, 7.45024235e+00]])"
      ]
     },
     "execution_count": 25,
     "metadata": {},
     "output_type": "execute_result"
    }
   ],
   "source": [
    "# a potência\n",
    "np.square(a-b)"
   ]
  },
  {
   "cell_type": "code",
   "execution_count": 26,
   "id": "0d251c04",
   "metadata": {},
   "outputs": [
    {
     "data": {
      "text/plain": [
       "91.70986517145157"
      ]
     },
     "execution_count": 26,
     "metadata": {},
     "output_type": "execute_result"
    }
   ],
   "source": [
    "#o somatório de cada um dos resultados\n",
    "np.sum(np.square(a-b))"
   ]
  },
  {
   "cell_type": "code",
   "execution_count": 27,
   "id": "a168d072",
   "metadata": {},
   "outputs": [
    {
     "data": {
      "text/plain": [
       "9.576526780177225"
      ]
     },
     "execution_count": 27,
     "metadata": {},
     "output_type": "execute_result"
    }
   ],
   "source": [
    "#Então tiramos a raiz, e agora temos a distância\n",
    "np.sqrt(91.70986517145157)"
   ]
  },
  {
   "cell_type": "markdown",
   "id": "d7d71a65",
   "metadata": {},
   "source": [
    "Estamos vendo a distância de Maria para o cliente 0! O que queremos agora é achar a distância de cada um dos clientes, e assim ordenar quem está mais perto e quem está mais longe, para assim podemos ver sua classes e aonde Maria irá se classificar.\n",
    "\n",
    "\n",
    "Existe várias formas de calcular a distância entre os clientes:\n",
    "\n",
    "**Distância Euclidiana**:\n",
    "A medida de distância mais conhecida e mais utilizada é a distância euclidiana. Ela consiste em subtrair as coordenadas de uma observação pela outra observação, elevar ao quadrado os resultados, somar todos os valores e extrair a raiz quadrada.\n",
    "\n",
    "**Distância de Manhattan**:\n",
    "Uma distância que considera apenas a soma dos módulos das diferenças entre cada par de coordenadas.\n",
    "\n",
    "**Distância de Minkowski**:\n",
    "Uma medida de distância que é a generalização de outras distâncias, como a distância euclidiana e a de Manhattan. Consiste em extrair o módulo da diferença entre cada par de coordenadas elevando o resultado a m, realizar a soma de todos os termos e, por fim, tirar a raiz m-ésima, em que m é um número qualquer. A distância euclidiana é um caso à parte quando m é igual a 2 e a distância de Manhattan é um caso à parte quando m é igual a 1.\n",
    "\n",
    "**Distância de Chebyshev**:\n",
    "É uma medida de distância que considera apenas o valor máximo entre os módulos das diferenças entre as variáveis. Dessa forma, leva em consideração apenas a variável que possui a maior diferença de valores entre as duas observações.\n",
    "\n",
    "\n",
    "Existem muito mais métricas, mas essas foram as usadas como exemplo. Além disso podemos modificar a medida de distância utilizando o argumento *metric* da função sklearn.neighbors.KNeighborsClassifier. Com base nas medidas que foram apresentadas no texto, o parâmetro pode receber os seguintes valores:\n",
    "\n",
    "    “euclidean” para a distância euclidiana;\n",
    "    “manhattan” para a distância de Manhattan;\n",
    "    “minkowski” para a distância de Minkowski;\n",
    "    “chebyshev” para a distância de Chebyshev.\n",
    "\n",
    "Caso tenha interesse em descobrir o funcionamento ou outras medidas de distância que podem ser utilizadas, confira a documentação do [sklearn.metrics.DistanceMetric](https://scikit-learn.org/stable/modules/generated/sklearn.metrics.DistanceMetric.html#sklearn.metrics.DistanceMetric)."
   ]
  },
  {
   "cell_type": "code",
   "execution_count": 28,
   "id": "72484d99",
   "metadata": {},
   "outputs": [],
   "source": [
    "#Separando treino e teste\n",
    "from sklearn.model_selection import train_test_split"
   ]
  },
  {
   "cell_type": "code",
   "execution_count": 29,
   "id": "976de9b9",
   "metadata": {},
   "outputs": [],
   "source": [
    "X_treino, X_teste, y_treino, y_teste = train_test_split(X_normalizado, y,\n",
    "                                                        test_size=0.3, \n",
    "                                                       random_state=123)"
   ]
  },
  {
   "cell_type": "code",
   "execution_count": 30,
   "id": "2c51275d",
   "metadata": {},
   "outputs": [],
   "source": [
    "#biblioteca para criar o modelo de machine learning\n",
    "from sklearn.neighbors import KNeighborsClassifier"
   ]
  },
  {
   "cell_type": "code",
   "execution_count": 31,
   "id": "55ac56ab",
   "metadata": {},
   "outputs": [],
   "source": [
    "# instanciando o modelo (criando o modelo) - por padrão são 5 vizinhos\n",
    "knn = KNeighborsClassifier(metric='euclidean')"
   ]
  },
  {
   "cell_type": "code",
   "execution_count": 32,
   "id": "33ce9abe",
   "metadata": {},
   "outputs": [
    {
     "data": {
      "text/html": [
       "<style>#sk-container-id-1 {color: black;background-color: white;}#sk-container-id-1 pre{padding: 0;}#sk-container-id-1 div.sk-toggleable {background-color: white;}#sk-container-id-1 label.sk-toggleable__label {cursor: pointer;display: block;width: 100%;margin-bottom: 0;padding: 0.3em;box-sizing: border-box;text-align: center;}#sk-container-id-1 label.sk-toggleable__label-arrow:before {content: \"▸\";float: left;margin-right: 0.25em;color: #696969;}#sk-container-id-1 label.sk-toggleable__label-arrow:hover:before {color: black;}#sk-container-id-1 div.sk-estimator:hover label.sk-toggleable__label-arrow:before {color: black;}#sk-container-id-1 div.sk-toggleable__content {max-height: 0;max-width: 0;overflow: hidden;text-align: left;background-color: #f0f8ff;}#sk-container-id-1 div.sk-toggleable__content pre {margin: 0.2em;color: black;border-radius: 0.25em;background-color: #f0f8ff;}#sk-container-id-1 input.sk-toggleable__control:checked~div.sk-toggleable__content {max-height: 200px;max-width: 100%;overflow: auto;}#sk-container-id-1 input.sk-toggleable__control:checked~label.sk-toggleable__label-arrow:before {content: \"▾\";}#sk-container-id-1 div.sk-estimator input.sk-toggleable__control:checked~label.sk-toggleable__label {background-color: #d4ebff;}#sk-container-id-1 div.sk-label input.sk-toggleable__control:checked~label.sk-toggleable__label {background-color: #d4ebff;}#sk-container-id-1 input.sk-hidden--visually {border: 0;clip: rect(1px 1px 1px 1px);clip: rect(1px, 1px, 1px, 1px);height: 1px;margin: -1px;overflow: hidden;padding: 0;position: absolute;width: 1px;}#sk-container-id-1 div.sk-estimator {font-family: monospace;background-color: #f0f8ff;border: 1px dotted black;border-radius: 0.25em;box-sizing: border-box;margin-bottom: 0.5em;}#sk-container-id-1 div.sk-estimator:hover {background-color: #d4ebff;}#sk-container-id-1 div.sk-parallel-item::after {content: \"\";width: 100%;border-bottom: 1px solid gray;flex-grow: 1;}#sk-container-id-1 div.sk-label:hover label.sk-toggleable__label {background-color: #d4ebff;}#sk-container-id-1 div.sk-serial::before {content: \"\";position: absolute;border-left: 1px solid gray;box-sizing: border-box;top: 0;bottom: 0;left: 50%;z-index: 0;}#sk-container-id-1 div.sk-serial {display: flex;flex-direction: column;align-items: center;background-color: white;padding-right: 0.2em;padding-left: 0.2em;position: relative;}#sk-container-id-1 div.sk-item {position: relative;z-index: 1;}#sk-container-id-1 div.sk-parallel {display: flex;align-items: stretch;justify-content: center;background-color: white;position: relative;}#sk-container-id-1 div.sk-item::before, #sk-container-id-1 div.sk-parallel-item::before {content: \"\";position: absolute;border-left: 1px solid gray;box-sizing: border-box;top: 0;bottom: 0;left: 50%;z-index: -1;}#sk-container-id-1 div.sk-parallel-item {display: flex;flex-direction: column;z-index: 1;position: relative;background-color: white;}#sk-container-id-1 div.sk-parallel-item:first-child::after {align-self: flex-end;width: 50%;}#sk-container-id-1 div.sk-parallel-item:last-child::after {align-self: flex-start;width: 50%;}#sk-container-id-1 div.sk-parallel-item:only-child::after {width: 0;}#sk-container-id-1 div.sk-dashed-wrapped {border: 1px dashed gray;margin: 0 0.4em 0.5em 0.4em;box-sizing: border-box;padding-bottom: 0.4em;background-color: white;}#sk-container-id-1 div.sk-label label {font-family: monospace;font-weight: bold;display: inline-block;line-height: 1.2em;}#sk-container-id-1 div.sk-label-container {text-align: center;}#sk-container-id-1 div.sk-container {/* jupyter's `normalize.less` sets `[hidden] { display: none; }` but bootstrap.min.css set `[hidden] { display: none !important; }` so we also need the `!important` here to be able to override the default hidden behavior on the sphinx rendered scikit-learn.org. See: https://github.com/scikit-learn/scikit-learn/issues/21755 */display: inline-block !important;position: relative;}#sk-container-id-1 div.sk-text-repr-fallback {display: none;}</style><div id=\"sk-container-id-1\" class=\"sk-top-container\"><div class=\"sk-text-repr-fallback\"><pre>KNeighborsClassifier(metric=&#x27;euclidean&#x27;)</pre><b>In a Jupyter environment, please rerun this cell to show the HTML representation or trust the notebook. <br />On GitHub, the HTML representation is unable to render, please try loading this page with nbviewer.org.</b></div><div class=\"sk-container\" hidden><div class=\"sk-item\"><div class=\"sk-estimator sk-toggleable\"><input class=\"sk-toggleable__control sk-hidden--visually\" id=\"sk-estimator-id-1\" type=\"checkbox\" checked><label for=\"sk-estimator-id-1\" class=\"sk-toggleable__label sk-toggleable__label-arrow\">KNeighborsClassifier</label><div class=\"sk-toggleable__content\"><pre>KNeighborsClassifier(metric=&#x27;euclidean&#x27;)</pre></div></div></div></div></div>"
      ],
      "text/plain": [
       "KNeighborsClassifier(metric='euclidean')"
      ]
     },
     "execution_count": 32,
     "metadata": {},
     "output_type": "execute_result"
    }
   ],
   "source": [
    "knn.fit(X_treino, y_treino)"
   ]
  },
  {
   "cell_type": "code",
   "execution_count": 33,
   "id": "3ae1cd22",
   "metadata": {},
   "outputs": [
    {
     "data": {
      "text/plain": [
       "array([1, 0, 0, ..., 0, 1, 1])"
      ]
     },
     "execution_count": 33,
     "metadata": {},
     "output_type": "execute_result"
    }
   ],
   "source": [
    "#Testando o modelo com os dados de teste\n",
    "predito_knn = knn.predict(X_teste)\n",
    "predito_knn"
   ]
  },
  {
   "cell_type": "markdown",
   "id": "463313a0",
   "metadata": {},
   "source": [
    "A professora antes de ver o resultado que fazer cada um dos modelos rodarem para depois comparar os resultados. \n",
    "Eu sou um pouco mais ansioso e pretendo ver a acurácia de cada um dos modelos."
   ]
  },
  {
   "cell_type": "code",
   "execution_count": 34,
   "id": "6cd8e174",
   "metadata": {},
   "outputs": [],
   "source": [
    "from sklearn.metrics import accuracy_score"
   ]
  },
  {
   "cell_type": "code",
   "execution_count": 35,
   "id": "5a6683b2",
   "metadata": {},
   "outputs": [
    {
     "name": "stdout",
     "output_type": "stream",
     "text": [
      "A acurácia está em torno de 81.45%\n"
     ]
    }
   ],
   "source": [
    "acuracia = accuracy_score(y_teste, predito_knn)\n",
    "print('A acurácia está em torno de {}%'.format(round(acuracia*100,2)))"
   ]
  },
  {
   "cell_type": "markdown",
   "id": "d3cee1a1",
   "metadata": {},
   "source": [
    "Exercício extra da aula:\n",
    " calculando a distância dos 10 primeiros clientes! Pela métrica euclidiana."
   ]
  },
  {
   "cell_type": "code",
   "execution_count": 36,
   "id": "8ab25561",
   "metadata": {},
   "outputs": [],
   "source": [
    "def calcula_distancia(dados_clientes, dados_maria, numero_clientes):\n",
    "    distancias = []\n",
    "\n",
    "#loop para percorrer cliente por cliente\n",
    "    for i in range(numero_clientes):\n",
    "        dist1 = dados_maria - dados_clientes[i]            #subtração dos atributos\n",
    "        soma_quadrado = np.sum(np.square(dist1))    #exponenciação e soma de todos os atributos\n",
    "        distancias.append(np.sqrt(soma_quadrado))   #raiz quadrada da soma anterior\n",
    "\n",
    "    return distancias"
   ]
  },
  {
   "cell_type": "code",
   "execution_count": 37,
   "id": "397ee5a0",
   "metadata": {},
   "outputs": [
    {
     "data": {
      "text/plain": [
       "[9.576526780177225,\n",
       " 9.164133279757106,\n",
       " 8.49659276250102,\n",
       " 10.037276792007964,\n",
       " 7.802847729252477,\n",
       " 9.011721779206102,\n",
       " 8.970072364668107,\n",
       " 10.634393972475307,\n",
       " 9.4504013151968,\n",
       " 7.919722083466357]"
      ]
     },
     "execution_count": 37,
     "metadata": {},
     "output_type": "execute_result"
    }
   ],
   "source": [
    "calcula_distancia(X_normalizado, Xmaria_normalizado, 10)"
   ]
  },
  {
   "cell_type": "markdown",
   "id": "20f197a7",
   "metadata": {},
   "source": [
    "Aí temos a distância dos 10 primeiros clientes."
   ]
  },
  {
   "cell_type": "markdown",
   "id": "107d3955",
   "metadata": {},
   "source": [
    "# Aula 3: Método probabilístico\n",
    "\n",
    "Teorema de Naïve Bayes\n",
    "\n",
    "O que é?\n",
    "\n",
    "Vamos supor que a Maria foi classificada com um Churn igual a não(0). Ela não saiu da empresa, ela continuar como cliente. Isso significa que as características da Maria contribuíram de forma independente para esse resultado, esse Churn, essa classificação.\n",
    "\n",
    "Eu acabo de apresentar para você o **princípio da independência condicional** que rege o teorema de Bayes. A sua base diz que cada uma das características utilizadas por uma determinada classe contribuíram de forma independente entre si, para que essa classe fosse determinada."
   ]
  },
  {
   "cell_type": "markdown",
   "id": "aeb54d90",
   "metadata": {},
   "source": [
    "### Modelo Bernoulli Naïve Bayes\n",
    "\n",
    "Que se baseia no teorema de Bayes:\n",
    "\n",
    "$P(y|X) = P(X|y).P(y)/P(X)$\n",
    "\n",
    "A probabilidade que y aconteceu dado que X aconteceu é igual a sua verossimilhança, ou seja, a probabilidade de X acontecer dado que y ocorreu, multiplicado pela probabilidade de X acontecer e dividido pela probabilidade de y acontecer.\n",
    "\n",
    "Definindo y, como o evento associado a ser Churn ou não, acharemos as probabilidade de ser Churn ou não vendo em cima das probabilidades de acordo com as características apresentadas pelos clientes da base.\n",
    "\n",
    "\n",
    "Acharemos as probabilidades associadas de cada classe, mas onde entra o Bernoulli nesse modelo?\n",
    "\n",
    "Nota da professora: **Importante analisar e verificar a distribuição de dados**.\n",
    "\n",
    "A partir deles que conseguimos escolher os melhores testes estatísticos e também tirar insights das nossas características, dos nossos atributos.\n",
    "\n",
    "\n",
    " Para cada uma das distribuições tem uma forma diferente de calcular. Na distribuição Multinomial de Bernoulli temos a seguinte fórmula: $p(x_i|y) = P(i|y)x_i + (1-p(i|y))(1-x_i)$, que a probabilidade de Xi acontecer, o nosso conjunto de características dado que uma determinada classe aconteceu, ser igual a probabilidade de i dado a classe y vezes Xi mais 1 menos probabilidade de i dado y vezes um menos Xi. "
   ]
  },
  {
   "cell_type": "code",
   "execution_count": 38,
   "id": "dd1733e2",
   "metadata": {},
   "outputs": [
    {
     "data": {
      "text/plain": [
       "array([[-0.79024667, -0.52756038, -3.06083934, ..., -0.76702973,\n",
       "         2.08580171, -0.4360152 ],\n",
       "       [ 1.26542767,  1.89551764,  0.32670777, ..., -0.76702973,\n",
       "         2.08580171, -0.4360152 ],\n",
       "       [-0.79024667, -0.52756038,  0.32670777, ...,  1.30373042,\n",
       "        -0.47943196, -0.4360152 ],\n",
       "       ...,\n",
       "       [ 1.26542767,  1.89551764,  0.32670777, ..., -0.76702973,\n",
       "         2.08580171, -0.4360152 ],\n",
       "       [ 1.26542767,  1.89551764,  0.32670777, ...,  1.30373042,\n",
       "        -0.47943196, -0.4360152 ],\n",
       "       [-0.79024667, -0.52756038,  0.32670777, ...,  1.30373042,\n",
       "        -0.47943196, -0.4360152 ]])"
      ]
     },
     "execution_count": 38,
     "metadata": {},
     "output_type": "execute_result"
    }
   ],
   "source": [
    "# Relembrando os dados\n",
    "X_treino"
   ]
  },
  {
   "cell_type": "code",
   "execution_count": 39,
   "id": "08ce8688",
   "metadata": {},
   "outputs": [
    {
     "data": {
      "text/plain": [
       "4831    0\n",
       "5077    0\n",
       "9023    1\n",
       "4424    1\n",
       "5236    0\n",
       "       ..\n",
       "9785    1\n",
       "7763    1\n",
       "5218    0\n",
       "1346    1\n",
       "3582    0\n",
       "Name: Churn, Length: 7243, dtype: int64"
      ]
     },
     "execution_count": 39,
     "metadata": {},
     "output_type": "execute_result"
    }
   ],
   "source": [
    "y_treino"
   ]
  },
  {
   "cell_type": "code",
   "execution_count": 40,
   "id": "0ed57541",
   "metadata": {},
   "outputs": [
    {
     "data": {
      "text/plain": [
       "0.000689301953135893"
      ]
     },
     "execution_count": 40,
     "metadata": {},
     "output_type": "execute_result"
    }
   ],
   "source": [
    "np.mean(X_treino)"
   ]
  },
  {
   "cell_type": "code",
   "execution_count": 41,
   "id": "81413f8d",
   "metadata": {},
   "outputs": [],
   "source": [
    "#aplicando modelo: importando biblioteca\n",
    "from sklearn.naive_bayes import BernoulliNB"
   ]
  },
  {
   "cell_type": "code",
   "execution_count": 42,
   "id": "7d69e4dd",
   "metadata": {},
   "outputs": [],
   "source": [
    "#criando o modelo, utilizano o parâmetro binarize como \n",
    "# limite transformar o modelo em binário ou não através \n",
    "# de um limite central, que escolhemos como a media \n",
    "bnb = BernoulliNB(binarize=0.006)\n",
    "\n",
    "# acima de -0.44 transformará o resultado em 1, caso contrário 0."
   ]
  },
  {
   "cell_type": "code",
   "execution_count": 43,
   "id": "46cd6417",
   "metadata": {},
   "outputs": [
    {
     "data": {
      "text/html": [
       "<style>#sk-container-id-2 {color: black;background-color: white;}#sk-container-id-2 pre{padding: 0;}#sk-container-id-2 div.sk-toggleable {background-color: white;}#sk-container-id-2 label.sk-toggleable__label {cursor: pointer;display: block;width: 100%;margin-bottom: 0;padding: 0.3em;box-sizing: border-box;text-align: center;}#sk-container-id-2 label.sk-toggleable__label-arrow:before {content: \"▸\";float: left;margin-right: 0.25em;color: #696969;}#sk-container-id-2 label.sk-toggleable__label-arrow:hover:before {color: black;}#sk-container-id-2 div.sk-estimator:hover label.sk-toggleable__label-arrow:before {color: black;}#sk-container-id-2 div.sk-toggleable__content {max-height: 0;max-width: 0;overflow: hidden;text-align: left;background-color: #f0f8ff;}#sk-container-id-2 div.sk-toggleable__content pre {margin: 0.2em;color: black;border-radius: 0.25em;background-color: #f0f8ff;}#sk-container-id-2 input.sk-toggleable__control:checked~div.sk-toggleable__content {max-height: 200px;max-width: 100%;overflow: auto;}#sk-container-id-2 input.sk-toggleable__control:checked~label.sk-toggleable__label-arrow:before {content: \"▾\";}#sk-container-id-2 div.sk-estimator input.sk-toggleable__control:checked~label.sk-toggleable__label {background-color: #d4ebff;}#sk-container-id-2 div.sk-label input.sk-toggleable__control:checked~label.sk-toggleable__label {background-color: #d4ebff;}#sk-container-id-2 input.sk-hidden--visually {border: 0;clip: rect(1px 1px 1px 1px);clip: rect(1px, 1px, 1px, 1px);height: 1px;margin: -1px;overflow: hidden;padding: 0;position: absolute;width: 1px;}#sk-container-id-2 div.sk-estimator {font-family: monospace;background-color: #f0f8ff;border: 1px dotted black;border-radius: 0.25em;box-sizing: border-box;margin-bottom: 0.5em;}#sk-container-id-2 div.sk-estimator:hover {background-color: #d4ebff;}#sk-container-id-2 div.sk-parallel-item::after {content: \"\";width: 100%;border-bottom: 1px solid gray;flex-grow: 1;}#sk-container-id-2 div.sk-label:hover label.sk-toggleable__label {background-color: #d4ebff;}#sk-container-id-2 div.sk-serial::before {content: \"\";position: absolute;border-left: 1px solid gray;box-sizing: border-box;top: 0;bottom: 0;left: 50%;z-index: 0;}#sk-container-id-2 div.sk-serial {display: flex;flex-direction: column;align-items: center;background-color: white;padding-right: 0.2em;padding-left: 0.2em;position: relative;}#sk-container-id-2 div.sk-item {position: relative;z-index: 1;}#sk-container-id-2 div.sk-parallel {display: flex;align-items: stretch;justify-content: center;background-color: white;position: relative;}#sk-container-id-2 div.sk-item::before, #sk-container-id-2 div.sk-parallel-item::before {content: \"\";position: absolute;border-left: 1px solid gray;box-sizing: border-box;top: 0;bottom: 0;left: 50%;z-index: -1;}#sk-container-id-2 div.sk-parallel-item {display: flex;flex-direction: column;z-index: 1;position: relative;background-color: white;}#sk-container-id-2 div.sk-parallel-item:first-child::after {align-self: flex-end;width: 50%;}#sk-container-id-2 div.sk-parallel-item:last-child::after {align-self: flex-start;width: 50%;}#sk-container-id-2 div.sk-parallel-item:only-child::after {width: 0;}#sk-container-id-2 div.sk-dashed-wrapped {border: 1px dashed gray;margin: 0 0.4em 0.5em 0.4em;box-sizing: border-box;padding-bottom: 0.4em;background-color: white;}#sk-container-id-2 div.sk-label label {font-family: monospace;font-weight: bold;display: inline-block;line-height: 1.2em;}#sk-container-id-2 div.sk-label-container {text-align: center;}#sk-container-id-2 div.sk-container {/* jupyter's `normalize.less` sets `[hidden] { display: none; }` but bootstrap.min.css set `[hidden] { display: none !important; }` so we also need the `!important` here to be able to override the default hidden behavior on the sphinx rendered scikit-learn.org. See: https://github.com/scikit-learn/scikit-learn/issues/21755 */display: inline-block !important;position: relative;}#sk-container-id-2 div.sk-text-repr-fallback {display: none;}</style><div id=\"sk-container-id-2\" class=\"sk-top-container\"><div class=\"sk-text-repr-fallback\"><pre>BernoulliNB(binarize=0.006)</pre><b>In a Jupyter environment, please rerun this cell to show the HTML representation or trust the notebook. <br />On GitHub, the HTML representation is unable to render, please try loading this page with nbviewer.org.</b></div><div class=\"sk-container\" hidden><div class=\"sk-item\"><div class=\"sk-estimator sk-toggleable\"><input class=\"sk-toggleable__control sk-hidden--visually\" id=\"sk-estimator-id-2\" type=\"checkbox\" checked><label for=\"sk-estimator-id-2\" class=\"sk-toggleable__label sk-toggleable__label-arrow\">BernoulliNB</label><div class=\"sk-toggleable__content\"><pre>BernoulliNB(binarize=0.006)</pre></div></div></div></div></div>"
      ],
      "text/plain": [
       "BernoulliNB(binarize=0.006)"
      ]
     },
     "execution_count": 43,
     "metadata": {},
     "output_type": "execute_result"
    }
   ],
   "source": [
    "bnb.fit(X_treino, y_treino)"
   ]
  },
  {
   "cell_type": "code",
   "execution_count": 44,
   "id": "6ae02ab3",
   "metadata": {},
   "outputs": [],
   "source": [
    "predito_Bnb = bnb.predict(X_teste)"
   ]
  },
  {
   "cell_type": "code",
   "execution_count": 45,
   "id": "21e1f46e",
   "metadata": {},
   "outputs": [
    {
     "name": "stdout",
     "output_type": "stream",
     "text": [
      "A acurácia está em torno de 76.84%\n"
     ]
    }
   ],
   "source": [
    "acuracia = accuracy_score(y_teste, predito_Bnb)\n",
    "print('A acurácia está em torno de {}%'.format(round(acuracia*100,2)))"
   ]
  },
  {
   "cell_type": "markdown",
   "id": "6bb7bb76",
   "metadata": {},
   "source": [
    "# Aula 4: Modelo Simbólico\n",
    "\n",
    "Através de um modelo de árvore é possível ter uma boa decisão sobre os clientes. Faremos então a partir de um modelo de 'Árvore de Decisão' ou Decision Tree, em inglês.\n",
    "\n",
    "Esse modelo pode ser usado tanto para classificação quanto para regressão, que prevê classes ou valores de Y a partir de decisões simples inferidas a partir dos dados de treino. \n",
    "\n",
    "Tudo começa no nó raiz, que é aquele nó onde é escolhido o melhor atributo para dividir os nossos dados. Para fazer essa escolha é aplicado um critério de impureza, ou seja, ele verifica o quão puro é um atributo, o resultado desse atributo tem que ser conjuntos homogêneos. Ele vai pegar e avaliar todos os atributos do nosso conjunto.\n",
    "\n",
    "Após ter selecionado o melhor atributo para dividir esses dados a partir desses critérios, nós dividimos em outros dois nós: verdadeiro e falso. E eles se tornam os nós de decisão, que a partir deles é tomado outra decisão, é feita de um formato recursivo a aplicação do critério de verificação da impureza. Novamente, vai aplicar esse critério em todos os atributos e escolher nesses nós de decisão quais são os atributos que melhor dividem os dados.\n",
    "\n",
    "A partir desses nós de decisão, vão surgir outros nós e assim a árvore vai se expandindo de acordo com o seu fluxo e com a aplicação desse critério nos atributos. Aqui no nosso exemplo, a partir do nó de decisão é dividido em outros dois nós e encerrada a nossa árvore. Esses nós finais são conhecidos com nó folha ou nó terminal.\n",
    "\n",
    "Isso significa que esse nó é o nó onde tomamos a decisão, é o nó da nossa variável classificadora, o nosso Churn. Retomando ao exemplo da Maria, o nosso nó raiz seria os meses de contrato maior que 50 e os nós folha o Churn, e os nós de decisão seria o caso do tipo de internet que abrirá outros dois caminhos.\n",
    "\n",
    "### Vantangens\n",
    "\n",
    "Além de ser intuitivo, fácil de entender por você conseguir enxergar o fluxo dos dados do início até o final até a variável classificadora, ela também não necessita obrigatoriamente realizar tratamento nos dados. Não é obrigatório normalizar, fazer a limpeza para aplicar esse modelo porque ela não é tão sensível a outliers, a essas transformações.\n",
    "\n",
    "E até pensando na transformação de variáveis, por exemplo, categóricas para numéricas, esse não é um dos problemas também porque a árvore de decisão trabalha tanto com essas variáveis categóricas quanto numéricas. Por isso não há esse problema também de ter que transformar esses valores.\n",
    "\n",
    "### Desvantagens\n",
    "\n",
    "Temos também as desvantagens da árvore de decisão, que a primeira seria a possível ocorrência de um overfitting. Isso quer dizer que a árvore vai crescendo tanto e tornando-se uma estrutura tão complexa que ela vai se ajustar perfeitamente àqueles dados de treinos. E ao surgir os novos dados, por exemplo, os dados da Maria a nova cliente, a árvore não vai conseguir tomar decisões para os dados dela porque ele foi ajustado perfeitamente aos nossos dados de treino, não vai conseguir classificar a Maria de uma forma adequada.\n",
    "\n",
    "Outra desvantagem também é em relação até a esse crescimento, que seria a instabilidade da árvore de decisão. Qualquer mudança que for feita em qualquer parte da árvore, ela vai gerar uma árvore nova. Por isso deve-se tomar muito cuidado e atenção na hora de montar e estruturar essa árvore, fazer os tratamentos se desejar ou não fazer, deve-se ter bastante atenção.\n",
    "\n",
    "Vamos agora entender melhor quais são esses critérios para decidir o melhor atributo a se dividir o dado. Como se calcula esses critérios?\n",
    "\n",
    "Os principais **critérios de divisão dos nós**, são os seguintes: \n",
    "* **Índice Gini**  \n",
    "* Qui-Quadrado\n",
    "* **Ganho de informação (entropia)**\n",
    "* Redução na variância. \n",
    "\n",
    "\n",
    "Trabalharemos em cima do índice Gini e da entropia. O primeiro se relaciona com a impureza dos dados, relacionando aquele que está mais puro para ser o primeiro para ser definido como raiz e aí segue como sequência os próximos.\n",
    "\n",
    "Entropia também trabalha com impureza, mas ela foca no ganho de informação, quanto mais desorganizado está o dado, maior será a entropia, e quanto mais organizado, menor será a entropia. Ordenando por entropia, trabalhamos sobre as caraacterísticas a com entropia e seguindo a ordem."
   ]
  },
  {
   "cell_type": "code",
   "execution_count": 46,
   "id": "33cd972c",
   "metadata": {},
   "outputs": [],
   "source": [
    "#aplicando o método\n",
    "from sklearn.tree import DecisionTreeClassifier"
   ]
  },
  {
   "cell_type": "code",
   "execution_count": 47,
   "id": "37a00125",
   "metadata": {},
   "outputs": [],
   "source": [
    "#instanciando modelo\n",
    "dtc = DecisionTreeClassifier(criterion='entropy', random_state=42)"
   ]
  },
  {
   "cell_type": "code",
   "execution_count": 48,
   "id": "0ab3e4e8",
   "metadata": {},
   "outputs": [
    {
     "data": {
      "text/html": [
       "<style>#sk-container-id-3 {color: black;background-color: white;}#sk-container-id-3 pre{padding: 0;}#sk-container-id-3 div.sk-toggleable {background-color: white;}#sk-container-id-3 label.sk-toggleable__label {cursor: pointer;display: block;width: 100%;margin-bottom: 0;padding: 0.3em;box-sizing: border-box;text-align: center;}#sk-container-id-3 label.sk-toggleable__label-arrow:before {content: \"▸\";float: left;margin-right: 0.25em;color: #696969;}#sk-container-id-3 label.sk-toggleable__label-arrow:hover:before {color: black;}#sk-container-id-3 div.sk-estimator:hover label.sk-toggleable__label-arrow:before {color: black;}#sk-container-id-3 div.sk-toggleable__content {max-height: 0;max-width: 0;overflow: hidden;text-align: left;background-color: #f0f8ff;}#sk-container-id-3 div.sk-toggleable__content pre {margin: 0.2em;color: black;border-radius: 0.25em;background-color: #f0f8ff;}#sk-container-id-3 input.sk-toggleable__control:checked~div.sk-toggleable__content {max-height: 200px;max-width: 100%;overflow: auto;}#sk-container-id-3 input.sk-toggleable__control:checked~label.sk-toggleable__label-arrow:before {content: \"▾\";}#sk-container-id-3 div.sk-estimator input.sk-toggleable__control:checked~label.sk-toggleable__label {background-color: #d4ebff;}#sk-container-id-3 div.sk-label input.sk-toggleable__control:checked~label.sk-toggleable__label {background-color: #d4ebff;}#sk-container-id-3 input.sk-hidden--visually {border: 0;clip: rect(1px 1px 1px 1px);clip: rect(1px, 1px, 1px, 1px);height: 1px;margin: -1px;overflow: hidden;padding: 0;position: absolute;width: 1px;}#sk-container-id-3 div.sk-estimator {font-family: monospace;background-color: #f0f8ff;border: 1px dotted black;border-radius: 0.25em;box-sizing: border-box;margin-bottom: 0.5em;}#sk-container-id-3 div.sk-estimator:hover {background-color: #d4ebff;}#sk-container-id-3 div.sk-parallel-item::after {content: \"\";width: 100%;border-bottom: 1px solid gray;flex-grow: 1;}#sk-container-id-3 div.sk-label:hover label.sk-toggleable__label {background-color: #d4ebff;}#sk-container-id-3 div.sk-serial::before {content: \"\";position: absolute;border-left: 1px solid gray;box-sizing: border-box;top: 0;bottom: 0;left: 50%;z-index: 0;}#sk-container-id-3 div.sk-serial {display: flex;flex-direction: column;align-items: center;background-color: white;padding-right: 0.2em;padding-left: 0.2em;position: relative;}#sk-container-id-3 div.sk-item {position: relative;z-index: 1;}#sk-container-id-3 div.sk-parallel {display: flex;align-items: stretch;justify-content: center;background-color: white;position: relative;}#sk-container-id-3 div.sk-item::before, #sk-container-id-3 div.sk-parallel-item::before {content: \"\";position: absolute;border-left: 1px solid gray;box-sizing: border-box;top: 0;bottom: 0;left: 50%;z-index: -1;}#sk-container-id-3 div.sk-parallel-item {display: flex;flex-direction: column;z-index: 1;position: relative;background-color: white;}#sk-container-id-3 div.sk-parallel-item:first-child::after {align-self: flex-end;width: 50%;}#sk-container-id-3 div.sk-parallel-item:last-child::after {align-self: flex-start;width: 50%;}#sk-container-id-3 div.sk-parallel-item:only-child::after {width: 0;}#sk-container-id-3 div.sk-dashed-wrapped {border: 1px dashed gray;margin: 0 0.4em 0.5em 0.4em;box-sizing: border-box;padding-bottom: 0.4em;background-color: white;}#sk-container-id-3 div.sk-label label {font-family: monospace;font-weight: bold;display: inline-block;line-height: 1.2em;}#sk-container-id-3 div.sk-label-container {text-align: center;}#sk-container-id-3 div.sk-container {/* jupyter's `normalize.less` sets `[hidden] { display: none; }` but bootstrap.min.css set `[hidden] { display: none !important; }` so we also need the `!important` here to be able to override the default hidden behavior on the sphinx rendered scikit-learn.org. See: https://github.com/scikit-learn/scikit-learn/issues/21755 */display: inline-block !important;position: relative;}#sk-container-id-3 div.sk-text-repr-fallback {display: none;}</style><div id=\"sk-container-id-3\" class=\"sk-top-container\"><div class=\"sk-text-repr-fallback\"><pre>DecisionTreeClassifier(criterion=&#x27;entropy&#x27;, random_state=42)</pre><b>In a Jupyter environment, please rerun this cell to show the HTML representation or trust the notebook. <br />On GitHub, the HTML representation is unable to render, please try loading this page with nbviewer.org.</b></div><div class=\"sk-container\" hidden><div class=\"sk-item\"><div class=\"sk-estimator sk-toggleable\"><input class=\"sk-toggleable__control sk-hidden--visually\" id=\"sk-estimator-id-3\" type=\"checkbox\" checked><label for=\"sk-estimator-id-3\" class=\"sk-toggleable__label sk-toggleable__label-arrow\">DecisionTreeClassifier</label><div class=\"sk-toggleable__content\"><pre>DecisionTreeClassifier(criterion=&#x27;entropy&#x27;, random_state=42)</pre></div></div></div></div></div>"
      ],
      "text/plain": [
       "DecisionTreeClassifier(criterion='entropy', random_state=42)"
      ]
     },
     "execution_count": 48,
     "metadata": {},
     "output_type": "execute_result"
    }
   ],
   "source": [
    "#treinar o modelo\n",
    "dtc.fit(X_treino, y_treino)"
   ]
  },
  {
   "cell_type": "code",
   "execution_count": 49,
   "id": "095628ac",
   "metadata": {},
   "outputs": [
    {
     "data": {
      "text/plain": [
       "array([0.02120757, 0.01359941, 0.0068095 , 0.01980908, 0.01889643,\n",
       "       0.16281074, 0.22256182, 0.00930128, 0.00344576, 0.01008899,\n",
       "       0.0019815 , 0.03131262, 0.00065123, 0.00849934, 0.        ,\n",
       "       0.01697374, 0.00622973, 0.        , 0.00964718, 0.01267467,\n",
       "       0.00027769, 0.00770208, 0.01306512, 0.00368329, 0.02048948,\n",
       "       0.00371587, 0.        , 0.00156955, 0.00671244, 0.0003825 ,\n",
       "       0.01126638, 0.03611651, 0.16384005, 0.07422263, 0.0176017 ,\n",
       "       0.02131358, 0.02184439, 0.01969615])"
      ]
     },
     "execution_count": 49,
     "metadata": {},
     "output_type": "execute_result"
    }
   ],
   "source": [
    "#verificar a importância de cada atributo\n",
    "dtc.feature_importances_"
   ]
  },
  {
   "cell_type": "code",
   "execution_count": 50,
   "id": "1e54e975",
   "metadata": {},
   "outputs": [
    {
     "data": {
      "text/plain": [
       "array([0, 0, 0, ..., 1, 1, 1])"
      ]
     },
     "execution_count": 50,
     "metadata": {},
     "output_type": "execute_result"
    }
   ],
   "source": [
    "predito_ArvoreDecisao = dtc.predict(X_teste)\n",
    "predito_ArvoreDecisao"
   ]
  },
  {
   "cell_type": "code",
   "execution_count": 52,
   "id": "f51f66fc",
   "metadata": {},
   "outputs": [
    {
     "name": "stdout",
     "output_type": "stream",
     "text": [
      "A acurácia está em torno de 80.93%\n"
     ]
    }
   ],
   "source": [
    "acuracia = accuracy_score(y_teste, predito_ArvoreDecisao)\n",
    "print('A acurácia está em torno de {}%'.format(round(acuracia*100,2)))"
   ]
  },
  {
   "attachments": {
    "image.png": {
     "image/png": "[encoded data removed]"
    }
   },
   "cell_type": "markdown",
   "id": "08e97371",
   "metadata": {},
   "source": [
    "# Aula 5: Validação dos modelos\n",
    "Dados os 3 modelos, vamos validar os modelos, ver quão bom estão e qual pe o melhor para nós mostrarmos para a equipe de vendas. A primeira métrica que eu apresento a você é a matriz de confusão. A matriz de confusão é basicamente uma tabela contendo quatro formas de visualizar os resultados.\n",
    "\n",
    "![image.png](attachment:image.png)\n",
    "\n",
    "De acordo com os valores preditos:\n",
    "* VP = Verdadeiro Positivo\n",
    "* FN = Falso Negativo\n",
    "* FP = Falso Positivo\n",
    "* VN = Verdadeiro Negativo\n",
    "\n",
    "\n",
    "Ela aparente ser bem simples, mas é muito importante e de extrema atenção entendê-la e saber como ela funciona, porque a partir da matriz de confusão outras métricas e performance dos modelos são extraídas. Vamos começar. Sabemos o que é matriz de confusão, agora como que nós extraímos essa matriz de confusão dos nossos modelos? Vamos primeiro chamar a biblioteca SKLearn e o pacote confusion matrix."
   ]
  },
  {
   "cell_type": "code",
   "execution_count": 53,
   "id": "b51d885d",
   "metadata": {},
   "outputs": [],
   "source": [
    "# importando a matrix\n",
    "from sklearn.metrics import confusion_matrix"
   ]
  },
  {
   "cell_type": "code",
   "execution_count": 54,
   "id": "5acce124",
   "metadata": {},
   "outputs": [
    {
     "name": "stdout",
     "output_type": "stream",
     "text": [
      "[[1240  329]\n",
      " [ 247 1289]]\n"
     ]
    }
   ],
   "source": [
    "print(confusion_matrix(y_teste, predito_knn))"
   ]
  },
  {
   "cell_type": "code",
   "execution_count": 55,
   "id": "38aa38a0",
   "metadata": {},
   "outputs": [
    {
     "name": "stdout",
     "output_type": "stream",
     "text": [
      "[[1091  478]\n",
      " [ 241 1295]]\n"
     ]
    }
   ],
   "source": [
    "print(confusion_matrix(y_teste, predito_Bnb))"
   ]
  },
  {
   "cell_type": "code",
   "execution_count": 56,
   "id": "b1a76483",
   "metadata": {
    "scrolled": true
   },
   "outputs": [
    {
     "name": "stdout",
     "output_type": "stream",
     "text": [
      "[[1253  316]\n",
      " [ 276 1260]]\n"
     ]
    }
   ],
   "source": [
    "print(confusion_matrix(y_teste, predito_ArvoreDecisao))"
   ]
  },
  {
   "cell_type": "markdown",
   "id": "f4c5af4c",
   "metadata": {},
   "source": [
    "Através desses dados é possível ver que maior parte dos VP encontrados são com os modelos de KNN e Árvore de Decisão, porém Árvore de Decisão contém os maior soma de valores FN e FP.\n",
    "\n",
    "\n",
    "Depois disso é mostra a acurácia! Aquilo que eu já tenho feito desde a segunda aula. Mas o que ela mede? A acurácia mede o quanto o nosso modelo acertou do total, do total de resultados o quanto que ela acertou. \n",
    "\n",
    "$ACC = (TP + TN)/(TP + FP + TN + FN)$"
   ]
  },
  {
   "cell_type": "code",
   "execution_count": 64,
   "id": "b243383d",
   "metadata": {},
   "outputs": [
    {
     "name": "stdout",
     "output_type": "stream",
     "text": [
      "KNN: 81.45%\n",
      "Bernoulli Bayes: 76.84%\n",
      "Árvore de Decisão: 80.93%\n"
     ]
    }
   ],
   "source": [
    "print(\"KNN: {}%\".format(round(accuracy_score(y_teste, predito_knn)*100,2)))\n",
    "print(\"Bernoulli Bayes: {}%\".format(round(accuracy_score(y_teste, predito_Bnb)*100,2)))\n",
    "print(\"Árvore de Decisão: {}%\".format(round(accuracy_score(y_teste, predito_ArvoreDecisao)*100,2)))"
   ]
  },
  {
   "cell_type": "markdown",
   "id": "90d59696",
   "metadata": {},
   "source": [
    "Outra métrica utiilizada, **precisão**:\n",
    "A Precisão calcula quantos verdadeiros positivos foram classificados de forma correta, foram preditos de forma correta. \n",
    "\n",
    "\n",
    "Sabemos que os verdadeiros positivos são aqueles que foram realmente preditos como verdadeiro sim, a precisão é calculada da seguinte forma: o total de verdadeiros positivos dividido pelos verdadeiros positivos mais os falsos positivos: \n",
    "\n",
    "$PS = TP/(TP + FP)$."
   ]
  },
  {
   "cell_type": "code",
   "execution_count": 66,
   "id": "42214a53",
   "metadata": {},
   "outputs": [],
   "source": [
    "#importando métrica\n",
    "from sklearn.metrics import precision_score"
   ]
  },
  {
   "cell_type": "code",
   "execution_count": 67,
   "id": "0fd20944",
   "metadata": {},
   "outputs": [
    {
     "name": "stdout",
     "output_type": "stream",
     "text": [
      "KNN: 79.67%\n",
      "Bernoulli Bayes: 73.04%\n",
      "Árvore de Decisão: 79.95%\n"
     ]
    }
   ],
   "source": [
    "print(\"KNN: {}%\".format(round(precision_score(y_teste, predito_knn)*100,2)))\n",
    "print(\"Bernoulli Bayes: {}%\".format(round(precision_score(y_teste, predito_Bnb)*100,2)))\n",
    "print(\"Árvore de Decisão: {}%\".format(round(precision_score(y_teste, predito_ArvoreDecisao)*100,2)))"
   ]
  },
  {
   "cell_type": "markdown",
   "id": "a110e08b",
   "metadata": {},
   "source": [
    "Última Métrica **Recall**: ele vai medir quão bom o nosso modelo está em classificar os resultados realmente positivos. \n",
    "\n",
    "Verdadeiros positivos, que são aqueles que foram classificados como sim pelo nosso modelo e que são realmente sim, divididos pelos verdadeiros positivos mais os falsos negativos:\n",
    "\n",
    "$RC = TP/(TP + FN)$"
   ]
  },
  {
   "cell_type": "code",
   "execution_count": 68,
   "id": "59d32084",
   "metadata": {},
   "outputs": [],
   "source": [
    "#importando métrica\n",
    "from sklearn.metrics import recall_score"
   ]
  },
  {
   "cell_type": "code",
   "execution_count": 69,
   "id": "45bb9a67",
   "metadata": {},
   "outputs": [
    {
     "name": "stdout",
     "output_type": "stream",
     "text": [
      "KNN: 83.92%\n",
      "Bernoulli Bayes: 84.31%\n",
      "Árvore de Decisão: 82.03%\n"
     ]
    }
   ],
   "source": [
    "print(\"KNN: {}%\".format(round(recall_score(y_teste, predito_knn)*100,2)))\n",
    "print(\"Bernoulli Bayes: {}%\".format(round(recall_score(y_teste, predito_Bnb)*100,2)))\n",
    "print(\"Árvore de Decisão: {}%\".format(round(recall_score(y_teste, predito_ArvoreDecisao)*100,2)))"
   ]
  },
  {
   "cell_type": "markdown",
   "id": "3f0cf500",
   "metadata": {},
   "source": []
  },
  {
   "attachments": {
    "image-2.png": {
     "image/png": "[encoded data removed]"
    },
    "image-3.png": {
     "image/png": "[encoded data removed]"
    },
    "image.png": {
     "image/png": "[encoded data removed]"
    }
   },
   "cell_type": "markdown",
   "id": "cda55c74",
   "metadata": {},
   "source": [
    "### F1 score\n",
    "\n",
    "Além da acurácia, precisão e recall, podemos extrair da matriz de confusão uma outra métrica conhecida como f1 score, que é uma média harmônica entre o recall e a precisão.O recall e a precisão são grandezas inversamente proporcionais, ou seja, à medida que vai aumentando o recall, por consequência irá diminuir a precisão e vice-versa.\n",
    "\n",
    "O f1 score é uma métrica para identificar se algum dos valores de recall ou precisão estão baixos, uma vez que não é muito interessante ter um modelo com um alto recall e pouca precisão, ou vice versa. Então, caso sua intenção seja obter um valor equilibrado entre o recall e a precisão, a métrica que precisamos maximizar é o f1 score.\n",
    "\n",
    "Para calcular, devemos utilizar a fórmula:\n",
    "\n",
    "![image.png](attachment:image.png)\n",
    "\n",
    "Fórmula: f1 igual a 2 vezes o quociente entre dois termos. O numerador é o produto de precisão e recall. O denominador é a soma entre precisão e recall.\n",
    "\n",
    "\n",
    "### Curva ROC e AUC\n",
    "\n",
    "Existe ainda uma métrica conhecida como AUC (Area Under the Curve), ou área sob a curva, que pode ser extraída da curva ROC. Essa métrica tem valor máximo de 1 e quanto maior o número mais bem avaliado será o modelo de classificação. Para a construção da curva ROC, precisamos utilizar diferentes pontos de corte para avaliação do modelo de classificação.\n",
    "\n",
    "É possível criar diferentes matrizes de confusão a partir dos diversos pontos de corte e extrair as métricas de recall (taxa de verdadeiros positivos) e taxa de falsos positivos. Sendo esta última, o valor de falsos positivos dividido pela soma de todos os valores negativos reais. Essas métricas podem ser sumarizadas em uma tabela e serão as coordenadas da curva ROC. Vamos entender como funcionam esses pontos de corte.\n",
    "\n",
    "Na construção de um modelo de classificação, a predição de uma classe está atrelada a uma probabilidade. Imagine que temos uma variável alvo com duas possibilidades (0 ou 1). Se um modelo classifica uma observação como 1, significa que há uma probabilidade de x% de que aquela observação seja da classe 1.\n",
    "\n",
    "O ponto de corte é um valor de probabilidade no qual, se a probabilidade de predição for maior que esse valor, atribui-se a observação à classe 1. Se for menor, atribui-se a observação à classe 0. À medida que o ponto de corte varia, os resultados obtidos na classificação se tornam diferentes, fazendo com que o modelo acerte mais de uma classe em troca de errar mais em outra.\n",
    "\n",
    "Através de um exemplo, ficará evidente como os pontos de corte modificam as métricas da matriz de confusão. Na imagem abaixo estão representados a precisão e o recall. Nela estão definidos 3 pontos de corte em 25%, 50% e 75%, representados pelas setas verticais. Os zeros e uns são os valores reais das classes e a classificação será feita através dos pontos de corte. Os valores à esquerda da seta serão classificados como 0 e os valores à direita serão classificados como 1 pelo modelo.\n",
    "\n",
    "![image-2.png](attachment:image-2.png)\n",
    "\n",
    "No primeiro ponto de corte temos 3 valores classificados como 0, à esquerda; e 9 valores como 1, à direita. A precisão é dada por 5/(5+4) = 55,5%, mostrando que 5 valores foram classificados corretamente como 1, dentre 9 valores totais classificados como 1. O recall é dado por 5/(5+1) = 83%, indicando que 5 valores foram classificados corretamente como 1, dentre 6 valores reais 1 no conjunto de dados.\n",
    "\n",
    "No segundo ponto de corte temos 6 valores classificados como 0 à esquerda; e 6 valores classificados como 1, à direita. A precisão é dada por 4/(4+2) = 66,6%, apontando que 4 valores foram classificados corretamente como 1, dentre 6 valores totais classificados como 1. O recall é dado por 4/(4+2) = 66,6%, demonstrando que 4 valores foram classificados corretamente como 1, dentre 6 valores reais 1 no conjunto de dados. O mesmo raciocínio pode ser aplicado para o último ponto de corte, resultando em valores diferentes para as métricas.\n",
    "\n",
    "Para cada ponto de corte, uma matriz de confusão pode ser criada e as métricas podem ser extraídas em uma tabela, na qual cada linha representa um ponto de corte com suas respectivas métricas. Desta tabela, pode ser construído o gráfico da curva ROC. Esta curva mostra como o classificador se comporta para diferentes valores de pontos de corte, de acordo com a relação de verdadeiros positivos e falsos positivos.\n",
    "\n",
    "![image-3.png](attachment:image-3.png)\n",
    "\n",
    "Existe uma linha de referência na diagonal do gráfico que corresponde à uma linha de base e representa o caso no qual o classificador identifica aleatoriamente as classes. Mas como podemos interpretar esse gráfico?\n",
    "\n",
    "Percebemos que a linha representando o classificador RandomForestClassifier cresce rapidamente até atingir o valor máximo de True Positive Rate (o recall). Isso significa que o modelo atinge 100% de classificação correta dos positivos e permanece até atingir o ponto (1, 1) do gráfico. Esse ponto nos diz que o modelo tem 100% de True Positive Rate e 100% de False Positive Rate (taxa de falso negativos), indicando que ele classifica todas as amostras positivas corretamente e todas as amostras que não são positivas foram incorretamente classificadas.\n",
    "\n",
    "Então, quando o modelo chega no 100% de True Positive Rate e lá permanece até atingir o 100% do False Positive Rate, ele consegue classificar todas as amostras positivas de forma correta independentemente do threshold adotado. Por outro lado, a linha representando o classificador DecisionTreeClassifier demora mais para chegar no 100% de True Positive Rate. Porém, quando chega no valor máximo, permanece igual à do classificador anterior.\n",
    "\n",
    "Esse pequeno atraso do DecisionTreeClassifier em relação ao RandomForestClassifier resulta em áreas diferentes, que são as AUCs para cada classificador. O primeiro teve uma AUC de 0.914 e o segundo 0.979. Portanto, esse último é o melhor classificador.\n",
    "\n",
    "\n",
    "---\n",
    "\n",
    "Voltando para qual é a melhor métrica para definir o modelo, a professor escolheu a precisão!\n",
    "\n",
    "A precisão vai medir quantos valores positivos foram previstos de forma correta com um todo no nosso modelo. Lembrando que os verdadeiros positivos são os sins, é aquele Churn igual a sim. É aquele Churn que precisamos dar atenção, é o Churn que temos que reduzir, são as pessoas que estão deixando a nossa empresa, estamos deixando de lucrar, a Alura Voz está perdendo com esses clientes saindo. \n",
    "\n",
    "**Por isso, muita atenção. Entenda bem o seu problema, entenda bem a solução que você tem que correr atrás porque é a partir daí que você vai saber mudar todo o seu processo de modelagem, criação e validação de resultados.**\n",
    "\n",
    "Dessa forma, pela métrica da precisão, o melhor modelo para definir futuros churns é o modelo de Árvore de Decisão!"
   ]
  },
  {
   "cell_type": "code",
   "execution_count": null,
   "id": "df3fecd6",
   "metadata": {},
   "outputs": [],
   "source": []
  }
 ],
 "metadata": {
  "kernelspec": {
   "display_name": "Python 3 (ipykernel)",
   "language": "python",
   "name": "python3"
  },
  "language_info": {
   "codemirror_mode": {
    "name": "ipython",
    "version": 3
   },
   "file_extension": ".py",
   "mimetype": "text/x-python",
   "name": "python",
   "nbconvert_exporter": "python",
   "pygments_lexer": "ipython3",
   "version": "3.8.10"
  }
 },
 "nbformat": 4,
 "nbformat_minor": 5
}
